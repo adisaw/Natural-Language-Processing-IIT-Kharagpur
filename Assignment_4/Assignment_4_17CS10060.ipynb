{
 "cells": [
  {
   "cell_type": "code",
   "execution_count": 55,
   "metadata": {},
   "outputs": [],
   "source": [
    "def readdata(filename,delimiter):\n",
    "    sentences=[]\n",
    "    with open(filename, \"r\",encoding='utf8') as f:\n",
    "        sentence=[]\n",
    "        for tag in f.readlines()[1:]:\n",
    "            if(tag==\"{}{}\\n\".format(delimiter,delimiter)):\n",
    "                sentences.append(sentence)\n",
    "                sentence=[]\n",
    "                continue\n",
    "            fields=tag.strip().split(delimiter)\n",
    "            sentence.append((fields[1].strip('\\\"'),fields[2]))\n",
    "        sentences.append(sentence)\n",
    "    return sentences\n"
   ]
  },
  {
   "cell_type": "markdown",
   "metadata": {},
   "source": [
    "## Features Chosen:\n",
    "**word** – the word itself <br />\n",
    "**word.Lower()** - the word is reduced to lowercase <br />\n",
    "**word.isTitle()** - Boolean True if only the first character is in uppercase and rest are lowercase\n",
    "**word.isUpper()** - Boolean True if all characters of string are uppercase  \n",
    "**word.isDigit()** - Boolean True if all characters of string are Digits<br />\n",
    "**Prefix-1** - word[0] first character of word<br />\n",
    "**Prefix-2** - word[0:2] first 2 characters of word<br />\n",
    "**Prefix-3** - word[0:3] first 3 characters of word<br />\n",
    "**Suffix-1** - word[-1] last character of word<br />\n",
    "**Suffix-2** - word[-2:] last 2 characters of word<br />\n",
    "**Suffix-3** - word[-3:] last 3 characters of word<br />\n",
    "**has_Hyphen** - Boolean True if word has hyphen in it<br />\n",
    "\n",
    "**BOS** - If word is the Beginning of the Sentence<br />\n",
    "**-1:word.Lower()** - previous word reduced to lowercase<br />\n",
    "**-1:word.isTitle()** - Boolean True if only first character of previous word is uppercase and rest are lowercase<br />\n",
    "**-1:word.isUpper()** - Boolean True if all characters of the previous word are uppercase<br />\n",
    "**-1:postag** - pos tag of previous word<br />\n",
    "\n",
    "**EOS** - If word is end of the sentence<br />\n",
    "**+1:word.Lower()** - next word reduced to lowercase<br />\n",
    "**+1:word.isTitle()** - Boolean True if only first character of the next word is in uppercase and rest in lowercase<br />\n",
    "**+1:word.isUpper()** - Boolean True if all characters of next word are in uppercase<br />\n",
    "**+1:postag** - pos tag of next word<br />\n",
    "\n",
    "The actual word is useful in determining the pos tag. Identifying if the word is a title can be useful as generally proper nouns are titles. isdigit() is used for identifying a number. Different length Prefix and suffix can be used for identifying information regarding tense of the word. Even information can be obtained of previous word and next word in the sentence. If we know the pos tag of the previous word and the next word, then the pos tag of current word can also be estimated upto a certain extent with this information.The BOS and EOS features are useful as sentences usually begin and end with certain tags.\n",
    "\n"
   ]
  },
  {
   "cell_type": "code",
   "execution_count": 56,
   "metadata": {},
   "outputs": [],
   "source": [
    "# This function returns the features of a word\n",
    "# Input:  'sentence' <list of tuples(Word, POS_Tag)\n",
    "# Output: dict {\"feature\" : value}\n",
    "def WordToFeatures(sentence, i):\n",
    "    word = sentence[i][0]\n",
    "    \n",
    "    features = {\n",
    "        'word':           word,\n",
    "        'word.Lower()':   word.lower(),\n",
    "        'word.isTitle()': word.istitle(),\n",
    "        'word.isUpper()': word.isupper(),\n",
    "        'word.isDigit()': word.isdigit(),\n",
    "        'Prefix-1':       word[0] if len(word)>0 else '',\n",
    "        'Prefix-2':       word[:2] if len(word)>1 else '',\n",
    "        'Prefix-3':       word[:3] if len(word)>2 else '',\n",
    "        'Suffix-1':       word[-1] if len(word)>0 else '',\n",
    "        'Suffix-2':       word[-2:] if len(word)>1 else '',\n",
    "        'Suffix-3':       word[-3:] if len(word)>2 else '',\n",
    "        'has_Hyphen':     '-' in word,\n",
    "    }\n",
    "    \n",
    "    if (i > 0):\n",
    "        prev = sentence[i-1][0]\n",
    "        postag1 = sentence[i-1][1]\n",
    "        features.update({\n",
    "            '-1:word.Lower()'   : prev.lower(),\n",
    "            '-1:word.isTitle()' : prev.istitle(),\n",
    "            '-1:word.isUpper()' : prev.isupper(),\n",
    "            '-1:postag': postag1,\n",
    "        })\n",
    "    else:\n",
    "        features['BOS'] = True\n",
    "\n",
    "    if (i < len(sentence)-1):\n",
    "        nextw = sentence[i+1][0]\n",
    "        postag1 = sentence[i+1][1]\n",
    "        features.update({\n",
    "            '+1:word.Lower()'   : nextw.lower(),\n",
    "            '+1:word.isTitle()' : nextw.istitle(),\n",
    "            '+1:word.isUpper()' : nextw.isupper(),\n",
    "            '+1:postag': postag1,\n",
    "            \n",
    "        })\n",
    "    else:\n",
    "        features['EOS'] = True\n",
    "\n",
    "    return features\n",
    "\n",
    "\n",
    "\n",
    "# This function returns the features of each word in a sentence\n",
    "# Input: a 'sentence' <list of tuples(Word, POS_tag)>\n",
    "# Output: a <list of <dict of {\"feature\" : value}>> corresponsing to each word\n",
    "def SentenceToFeatures(sentence):\n",
    "    return [WordToFeatures(sentence, i) for i in range(len(sentence))]\n",
    "\n",
    "\n",
    "# This function returns the labels of each word in a sentence\n",
    "# Input: 'sentence' <list of tuples(Word, POS_tags)>\n",
    "# Output: <list of POS_tags>\n",
    "def SentenceToLabels(sentence):\n",
    "    return [fields[1] for fields in sentence]"
   ]
  },
  {
   "cell_type": "code",
   "execution_count": 57,
   "metadata": {},
   "outputs": [],
   "source": [
    "Train_Set   = readdata('hi-ud-train.conllu', ',')\n",
    "Test_Set    = readdata('hi-ud-test.conllu', '\\t')\n",
    "\n",
    "X_Train     = [SentenceToFeatures(sentence) for sentence in Train_Set]\n",
    "Y_TrainTrue = [SentenceToLabels(sentence) for sentence in Train_Set]\n",
    "\n",
    "X_Test      = [SentenceToFeatures(sentence) for sentence in Test_Set]\n",
    "Y_TestTrue  = [SentenceToLabels(sentence) for sentence in Test_Set]"
   ]
  },
  {
   "cell_type": "code",
   "execution_count": 58,
   "metadata": {},
   "outputs": [
    {
     "data": {
      "text/plain": [
       "CRF(algorithm='lbfgs', all_possible_states=None,\n",
       "  all_possible_transitions=True, averaging=None, c=None, c1=0.1, c2=0.1,\n",
       "  calibration_candidates=None, calibration_eta=None,\n",
       "  calibration_max_trials=None, calibration_rate=None,\n",
       "  calibration_samples=None, delta=None, epsilon=None, error_sensitive=None,\n",
       "  gamma=None, keep_tempfiles=None, linesearch=None, max_iterations=300,\n",
       "  max_linesearch=None, min_freq=None, model_filename=None,\n",
       "  num_memories=None, pa_type=None, period=None, trainer_cls=None,\n",
       "  variance=None, verbose=False)"
      ]
     },
     "execution_count": 58,
     "metadata": {},
     "output_type": "execute_result"
    }
   ],
   "source": [
    "import sklearn_crfsuite\n",
    "from sklearn_crfsuite import metrics\n",
    "\n",
    "Model = sklearn_crfsuite.CRF(\n",
    "    algorithm      = 'lbfgs',\n",
    "    c1             = 0.1,\n",
    "    c2             = 0.1,\n",
    "    max_iterations = 300,\n",
    "    all_possible_transitions = True\n",
    ")\n",
    "Model.fit(X_Train, Y_TrainTrue)"
   ]
  },
  {
   "cell_type": "code",
   "execution_count": 59,
   "metadata": {},
   "outputs": [
    {
     "name": "stdout",
     "output_type": "stream",
     "text": [
      "                MODEL PREDICTION ON TRAINING DATA\n",
      "\n",
      "              precision    recall  f1-score   support\n",
      "\n",
      "         ADJ       1.00      1.00      1.00       570\n",
      "         ADP       1.00      1.00      1.00      1387\n",
      "         ADV       0.99      0.99      0.99       111\n",
      "         AUX       0.99      1.00      0.99       730\n",
      "       CCONJ       1.00      1.00      1.00       150\n",
      "       COMMA       1.00      1.00      1.00       114\n",
      "         DET       1.00      0.99      0.99       231\n",
      "        NOUN       1.00      1.00      1.00      1597\n",
      "         NUM       1.00      1.00      1.00       152\n",
      "        PART       1.00      1.00      1.00       163\n",
      "        PRON       1.00      1.00      1.00       431\n",
      "       PROPN       1.00      1.00      1.00       708\n",
      "       PUNCT       1.00      1.00      1.00       564\n",
      "       SCONJ       0.98      1.00      0.99        61\n",
      "        VERB       1.00      0.98      0.99       640\n",
      "           X       1.00      1.00      1.00         2\n",
      "\n",
      "   micro avg       1.00      1.00      1.00      7611\n",
      "   macro avg       1.00      1.00      1.00      7611\n",
      "weighted avg       1.00      1.00      1.00      7611\n",
      "\n",
      "precision:  0.9976580869578112\n",
      "recall:     0.9976350019708317\n",
      "f1-score:   0.9976342225110107\n",
      "accuracy:   0.9976350019708317\n"
     ]
    }
   ],
   "source": [
    "print(\"                MODEL PREDICTION ON TRAINING DATA\")\n",
    "print('')\n",
    "\n",
    "\n",
    "Y_TrainPredicted = Model.predict(X_Train)\n",
    "\n",
    "print(metrics.flat_classification_report(Y_TrainTrue, Y_TrainPredicted))\n",
    "\n",
    "print('precision: ',  metrics.flat_precision_score(Y_TrainTrue, Y_TrainPredicted, average = 'weighted'))\n",
    "print('recall:    ',  metrics.flat_recall_score(Y_TrainTrue, Y_TrainPredicted, average = 'weighted'))\n",
    "print('f1-score:  ',  metrics.flat_f1_score(Y_TrainTrue, Y_TrainPredicted, average = 'weighted'))\n",
    "print('accuracy:  ',  metrics.flat_accuracy_score(Y_TrainTrue, Y_TrainPredicted))"
   ]
  },
  {
   "cell_type": "code",
   "execution_count": 60,
   "metadata": {},
   "outputs": [
    {
     "name": "stdout",
     "output_type": "stream",
     "text": [
      "                   MODEL PREDICTION ON TESTING DATA\n",
      " \n",
      "              precision    recall  f1-score   support\n",
      "\n",
      "         ADJ       0.74      0.78      0.76        94\n",
      "         ADP       0.96      0.98      0.97       309\n",
      "         ADV       0.71      0.48      0.57        21\n",
      "         AUX       0.96      0.97      0.97       139\n",
      "       CCONJ       1.00      1.00      1.00        25\n",
      "         DET       0.89      0.92      0.90        36\n",
      "        NOUN       0.83      0.89      0.86       329\n",
      "         NUM       1.00      0.92      0.96        25\n",
      "        PART       1.00      0.97      0.98        33\n",
      "        PRON       0.92      0.88      0.90        65\n",
      "       PROPN       0.81      0.69      0.74       145\n",
      "       PUNCT       1.00      1.00      1.00       135\n",
      "       SCONJ       0.60      1.00      0.75         3\n",
      "        VERB       0.90      0.88      0.89        99\n",
      "\n",
      "   micro avg       0.90      0.90      0.90      1458\n",
      "   macro avg       0.88      0.88      0.88      1458\n",
      "weighted avg       0.90      0.90      0.90      1458\n",
      "\n",
      "precision:  0.8967440932480188\n",
      "recall:     0.897119341563786\n",
      "f1-score:   0.8957270489881956\n",
      "accuracy:   0.897119341563786\n"
     ]
    }
   ],
   "source": [
    "print(\"                   MODEL PREDICTION ON TESTING DATA\")\n",
    "print(\" \")\n",
    "\n",
    "Y_TestPredicted = Model.predict(X_Test)\n",
    "\n",
    "print(metrics.flat_classification_report(Y_TestTrue, Y_TestPredicted))\n",
    "\n",
    "print('precision: ',  metrics.flat_precision_score(Y_TestTrue, Y_TestPredicted, average = 'weighted'))\n",
    "print('recall:    ',  metrics.flat_recall_score(Y_TestTrue, Y_TestPredicted, average = 'weighted'))\n",
    "print('f1-score:  ',  metrics.flat_f1_score(Y_TestTrue, Y_TestPredicted, average = 'weighted'))\n",
    "print('accuracy:  ',  metrics.flat_accuracy_score(Y_TestTrue, Y_TestPredicted))"
   ]
  },
  {
   "cell_type": "code",
   "execution_count": 64,
   "metadata": {},
   "outputs": [],
   "source": [
    "# This function prints the transition from POS_Tag1 -> POS_Tag2 with its corresponding weight\n",
    "def printTransitions(transitions):\n",
    "    for edge, weight in transitions:\n",
    "        print(\"%-6s =>  %-9s %0.5f\" % (edge[0], edge[1], weight))"
   ]
  },
  {
   "cell_type": "code",
   "execution_count": 65,
   "metadata": {
    "scrolled": false
   },
   "outputs": [
    {
     "name": "stdout",
     "output_type": "stream",
     "text": [
      "Top 10 Most Common POS Transition Features:\n",
      "\n",
      "VERB   =>  AUX       2.20021\n",
      "AUX    =>  AUX       1.55228\n",
      "NUM    =>  NOUN      1.47586\n",
      "ADJ    =>  NOUN      1.37534\n",
      "PROPN  =>  ADP       1.35694\n",
      "PROPN  =>  PROPN     1.33343\n",
      "NOUN   =>  ADP       1.28564\n",
      "VERB   =>  SCONJ     1.25156\n",
      "DET    =>  NOUN      1.22831\n",
      "NOUN   =>  VERB      1.09714\n",
      "\n",
      "\n",
      "Top 10 Least Common POS Transition Features:\n",
      "\n",
      "AUX    =>  ADP       -1.06835\n",
      "COMMA  =>  ADP       -1.08245\n",
      "NUM    =>  PRON      -1.10012\n",
      "PUNCT  =>  PUNCT     -1.10883\n",
      "ADP    =>  COMMA     -1.22990\n",
      "DET    =>  CCONJ     -1.33245\n",
      "CCONJ  =>  AUX       -1.47313\n",
      "ADJ    =>  PRON      -1.84110\n",
      "ADJ    =>  ADP       -2.05786\n",
      "DET    =>  ADP       -2.30424\n",
      "\n",
      "\n"
     ]
    }
   ],
   "source": [
    "from collections import Counter\n",
    "\n",
    "print(\"Top 10 Most Common POS Transition Features:\")\n",
    "print(\"\")\n",
    "printTransitions(Counter(Model.transition_features_).most_common(10))\n",
    "print(\"\\n\")\n",
    "\n",
    "print(\"Top 10 Least Common POS Transition Features:\")\n",
    "print(\"\")\n",
    "printTransitions(Counter(Model.transition_features_).most_common()[-10:])\n",
    "print(\"\\n\")"
   ]
  },
  {
   "cell_type": "code",
   "execution_count": null,
   "metadata": {},
   "outputs": [],
   "source": []
  }
 ],
 "metadata": {
  "kernelspec": {
   "display_name": "Python 3",
   "language": "python",
   "name": "python3"
  },
  "language_info": {
   "codemirror_mode": {
    "name": "ipython",
    "version": 3
   },
   "file_extension": ".py",
   "mimetype": "text/x-python",
   "name": "python",
   "nbconvert_exporter": "python",
   "pygments_lexer": "ipython3",
   "version": "3.7.1"
  }
 },
 "nbformat": 4,
 "nbformat_minor": 2
}
