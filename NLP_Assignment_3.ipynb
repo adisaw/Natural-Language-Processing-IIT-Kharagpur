{
  "nbformat": 4,
  "nbformat_minor": 0,
  "metadata": {
    "colab": {
      "name": "NLP_Assignment_3_17CS10060.ipynb",
      "provenance": [],
      "collapsed_sections": []
    },
    "kernelspec": {
      "display_name": "Python 3",
      "language": "python",
      "name": "python3"
    },
    "language_info": {
      "codemirror_mode": {
        "name": "ipython",
        "version": 3
      },
      "file_extension": ".py",
      "mimetype": "text/x-python",
      "name": "python",
      "nbconvert_exporter": "python",
      "pygments_lexer": "ipython3",
      "version": "3.7.1"
    },
    "accelerator": "GPU"
  },
  "cells": [
    {
      "cell_type": "markdown",
      "metadata": {
        "id": "zyJ25uz0kSaw"
      },
      "source": [
        "# Assignment 3 on Natural Language Processing\n",
        "\n",
        "## Date : 30th Sept, 2020\n",
        "\n",
        "### Instructor : Prof. Sudeshna Sarkar\n",
        "\n",
        "### Teaching Assistants : Alapan Kuila, Aniruddha Roy, Anusha Potnuru, Uppada Vishnu"
      ]
    },
    {
      "cell_type": "markdown",
      "metadata": {
        "id": "Ao1nhg9RknmF"
      },
      "source": [
        "The central idea of this assignment is to use Naive Bayes classifier and LSTM based classifier and compare the models by accuracy on IMDB dataset.\n",
        "\n"
      ]
    },
    {
      "cell_type": "markdown",
      "metadata": {
        "id": "ONM5Q4SCe9Mr"
      },
      "source": [
        "Please submit with outputs. "
      ]
    },
    {
      "cell_type": "code",
      "metadata": {
        "id": "ElRkQElWUMjG"
      },
      "source": [
        "import re\n",
        "import pandas as pd\n",
        "import numpy as np\n",
        "from sklearn.preprocessing import LabelEncoder\n",
        "from sklearn.model_selection import train_test_split\n",
        "from keras.preprocessing.text import Tokenizer\n",
        "from keras.preprocessing.sequence import pad_sequences\n",
        "import keras\n",
        "import nltk\n",
        "from sklearn.metrics import classification_report"
      ],
      "execution_count": 1,
      "outputs": []
    },
    {
      "cell_type": "code",
      "metadata": {
        "id": "fhHRim2AUm4z",
        "outputId": "f14d6a9a-abc3-41b2-c4af-51469bfd5db8",
        "colab": {
          "base_uri": "https://localhost:8080/",
          "height": 195
        }
      },
      "source": [
        "#Load the IMDB dataset. You can load it using pandas as dataframe\n",
        "dataset= pd.read_csv('IMDB Dataset.csv')\n",
        "dataset.head()\n"
      ],
      "execution_count": 2,
      "outputs": [
        {
          "output_type": "execute_result",
          "data": {
            "text/html": [
              "<div>\n",
              "<style scoped>\n",
              "    .dataframe tbody tr th:only-of-type {\n",
              "        vertical-align: middle;\n",
              "    }\n",
              "\n",
              "    .dataframe tbody tr th {\n",
              "        vertical-align: top;\n",
              "    }\n",
              "\n",
              "    .dataframe thead th {\n",
              "        text-align: right;\n",
              "    }\n",
              "</style>\n",
              "<table border=\"1\" class=\"dataframe\">\n",
              "  <thead>\n",
              "    <tr style=\"text-align: right;\">\n",
              "      <th></th>\n",
              "      <th>review</th>\n",
              "      <th>sentiment</th>\n",
              "    </tr>\n",
              "  </thead>\n",
              "  <tbody>\n",
              "    <tr>\n",
              "      <th>0</th>\n",
              "      <td>One of the other reviewers has mentioned that ...</td>\n",
              "      <td>positive</td>\n",
              "    </tr>\n",
              "    <tr>\n",
              "      <th>1</th>\n",
              "      <td>A wonderful little production. &lt;br /&gt;&lt;br /&gt;The...</td>\n",
              "      <td>positive</td>\n",
              "    </tr>\n",
              "    <tr>\n",
              "      <th>2</th>\n",
              "      <td>I thought this was a wonderful way to spend ti...</td>\n",
              "      <td>positive</td>\n",
              "    </tr>\n",
              "    <tr>\n",
              "      <th>3</th>\n",
              "      <td>Basically there's a family where a little boy ...</td>\n",
              "      <td>negative</td>\n",
              "    </tr>\n",
              "    <tr>\n",
              "      <th>4</th>\n",
              "      <td>Petter Mattei's \"Love in the Time of Money\" is...</td>\n",
              "      <td>positive</td>\n",
              "    </tr>\n",
              "  </tbody>\n",
              "</table>\n",
              "</div>"
            ],
            "text/plain": [
              "                                              review sentiment\n",
              "0  One of the other reviewers has mentioned that ...  positive\n",
              "1  A wonderful little production. <br /><br />The...  positive\n",
              "2  I thought this was a wonderful way to spend ti...  positive\n",
              "3  Basically there's a family where a little boy ...  negative\n",
              "4  Petter Mattei's \"Love in the Time of Money\" is...  positive"
            ]
          },
          "metadata": {
            "tags": []
          },
          "execution_count": 2
        }
      ]
    },
    {
      "cell_type": "markdown",
      "metadata": {
        "id": "lK_Hn2f6VMP7"
      },
      "source": [
        "# Preprocessing\n",
        "PrePrecessing that needs to be done on lower cased corpus\n",
        "\n",
        "1. Remove html tags\n",
        "2. Remove URLS\n",
        "3. Remove non alphanumeric character\n",
        "4. Remove Stopwords\n",
        "5. Perform stemming and lemmatization\n",
        "\n",
        "You can use regex from re. "
      ]
    },
    {
      "cell_type": "code",
      "metadata": {
        "id": "5B5lHZPsVOXv",
        "outputId": "a5ac4cf1-85da-44e1-8f51-967430ddd6c3",
        "colab": {
          "base_uri": "https://localhost:8080/",
          "height": 262
        }
      },
      "source": [
        "nltk.download('stopwords') # For stopwords\n",
        "from nltk.corpus import stopwords \n",
        "from nltk.tokenize import word_tokenize\n",
        "import nltk\n",
        "nltk.download('punkt')\n",
        "from nltk.stem import PorterStemmer\n",
        "for columns in dataset.columns:\n",
        "    \n",
        "    dataset[columns] = dataset[columns].str.lower() \n",
        "\n",
        "stop_words=set(stopwords.words('english'))\n",
        "p = re.compile(r'<.*?>')\n",
        "pt=PorterStemmer()\n",
        "for i in range(dataset.shape[0]):\n",
        "    text1=re.sub(p,' ', dataset.iat[i,0]) #removing html\n",
        "    text2=re.sub(r'http\\S+', '', text1) #removing urls\n",
        "    text3=re.sub(r'www\\.\\S+','',text2)\n",
        "    text4=re.sub(r'[^A-Za-z0-9 ]+','', text3) #removing non alphanumeric characters\n",
        "    wordtokens=word_tokenize(text4)\n",
        "    filtertokens=[]\n",
        "    for token in wordtokens:\n",
        "        if token not in stop_words:     #removing stopwords\n",
        "            filtertokens.append(token)\n",
        "    \n",
        "    wordlist=[]\n",
        "    for word in filtertokens:\n",
        "        wordlist.append(pt.stem(word))    #performing word stemming\n",
        "    string=''\n",
        "    for word in wordlist:\n",
        "        string=string+word+' '\n",
        "    \n",
        "    dataset.iat[i,0]=string.strip()\n",
        "        \n",
        "    \n",
        "\n",
        "dataset.head()\n",
        "\n"
      ],
      "execution_count": 5,
      "outputs": [
        {
          "output_type": "stream",
          "text": [
            "[nltk_data] Downloading package stopwords to /root/nltk_data...\n",
            "[nltk_data]   Package stopwords is already up-to-date!\n",
            "[nltk_data] Downloading package punkt to /root/nltk_data...\n",
            "[nltk_data]   Package punkt is already up-to-date!\n"
          ],
          "name": "stdout"
        },
        {
          "output_type": "execute_result",
          "data": {
            "text/html": [
              "<div>\n",
              "<style scoped>\n",
              "    .dataframe tbody tr th:only-of-type {\n",
              "        vertical-align: middle;\n",
              "    }\n",
              "\n",
              "    .dataframe tbody tr th {\n",
              "        vertical-align: top;\n",
              "    }\n",
              "\n",
              "    .dataframe thead th {\n",
              "        text-align: right;\n",
              "    }\n",
              "</style>\n",
              "<table border=\"1\" class=\"dataframe\">\n",
              "  <thead>\n",
              "    <tr style=\"text-align: right;\">\n",
              "      <th></th>\n",
              "      <th>review</th>\n",
              "      <th>sentiment</th>\n",
              "    </tr>\n",
              "  </thead>\n",
              "  <tbody>\n",
              "    <tr>\n",
              "      <th>0</th>\n",
              "      <td>one review mention watch 1 oz episod youll hoo...</td>\n",
              "      <td>positive</td>\n",
              "    </tr>\n",
              "    <tr>\n",
              "      <th>1</th>\n",
              "      <td>wonder littl product film techniqu unassum old...</td>\n",
              "      <td>positive</td>\n",
              "    </tr>\n",
              "    <tr>\n",
              "      <th>2</th>\n",
              "      <td>thought wonder way spend time hot summer weeke...</td>\n",
              "      <td>positive</td>\n",
              "    </tr>\n",
              "    <tr>\n",
              "      <th>3</th>\n",
              "      <td>basic famili littl boy jake think zombi closet...</td>\n",
              "      <td>negative</td>\n",
              "    </tr>\n",
              "    <tr>\n",
              "      <th>4</th>\n",
              "      <td>petter mattei love time money visual stun film...</td>\n",
              "      <td>positive</td>\n",
              "    </tr>\n",
              "  </tbody>\n",
              "</table>\n",
              "</div>"
            ],
            "text/plain": [
              "                                              review sentiment\n",
              "0  one review mention watch 1 oz episod youll hoo...  positive\n",
              "1  wonder littl product film techniqu unassum old...  positive\n",
              "2  thought wonder way spend time hot summer weeke...  positive\n",
              "3  basic famili littl boy jake think zombi closet...  negative\n",
              "4  petter mattei love time money visual stun film...  positive"
            ]
          },
          "metadata": {
            "tags": []
          },
          "execution_count": 5
        }
      ]
    },
    {
      "cell_type": "code",
      "metadata": {
        "id": "DyaSkfcvYGXk",
        "outputId": "6608a5c0-8141-4648-df6b-61345dbccd06",
        "colab": {
          "base_uri": "https://localhost:8080/",
          "height": 134
        }
      },
      "source": [
        "# Print Statistics of Data like avg length of sentence , proposition of data w.r.t class labels\n",
        "total=0\n",
        "maxlen=0\n",
        "index=0\n",
        "totalpos=0\n",
        "pos=0\n",
        "totalneg=0\n",
        "neg=0\n",
        "vocab=[]\n",
        "for i in range(dataset.shape[0]):\n",
        "    for word in dataset.iat[i,0].split(' '):\n",
        "        if word not in vocab:\n",
        "            vocab.append(word)\n",
        "    total=total + len(dataset.iat[i,0].split(' '))\n",
        "    if len(dataset.iat[i,0].split(' '))>maxlen:\n",
        "        maxlen=len(dataset.iat[i,0].split(' '))\n",
        "        index=i\n",
        "    if dataset.iat[i,1]=='positive':\n",
        "        totalpos=totalpos+len(dataset.iat[i,0].split(' '))\n",
        "        pos=pos+1\n",
        "    if dataset.iat[i,1]=='negative':\n",
        "        totalneg=totalneg+len(dataset.iat[i,0].split(' '))\n",
        "        neg=neg+1\n",
        "\n",
        "print('average review length :',total/dataset.shape[0])\n",
        "print('maximum review length : ',maxlen)\n",
        "print('average length of positive review  :',totalpos/pos)\n",
        "print('No of positive reviews :',pos)\n",
        "print('average length of negative review  :',totalneg/neg)\n",
        "print('No of negative reviews :',neg)\n",
        "print('Vocabulary size :',len(vocab))\n",
        "\n",
        "\n",
        "\n",
        "\n"
      ],
      "execution_count": 6,
      "outputs": [
        {
          "output_type": "stream",
          "text": [
            "average review length : 119.68862\n",
            "maximum review length :  1437\n",
            "average length of positive review  : 121.02932\n",
            "No of positive reviews : 25000\n",
            "average length of negative review  : 118.34792\n",
            "No of negative reviews : 25000\n",
            "Vocabulary size : 154450\n"
          ],
          "name": "stdout"
        }
      ]
    },
    {
      "cell_type": "markdown",
      "metadata": {
        "id": "_FkJ-e2pUwun"
      },
      "source": [
        "# Naive Bayes classifier"
      ]
    },
    {
      "cell_type": "code",
      "metadata": {
        "id": "eVq-mN28U_J4"
      },
      "source": [
        "# get reviews column from df\n",
        "reviews = dataset['review']\n",
        "\n",
        "# get labels column from df\n",
        "labels = dataset['sentiment']"
      ],
      "execution_count": 7,
      "outputs": []
    },
    {
      "cell_type": "code",
      "metadata": {
        "id": "Ljo5NquhXTXr",
        "outputId": "402d83f1-1cc4-4dc2-cbc1-0ff009160fb1",
        "colab": {
          "base_uri": "https://localhost:8080/",
          "height": 50
        }
      },
      "source": [
        "# Use label encoder to encode labels. Convert to 0/1\n",
        "encoder = LabelEncoder()\n",
        "encoded_labels = encoder.fit_transform(labels)\n",
        "\n",
        "print(encoded_labels)\n",
        "print(encoder.classes_)"
      ],
      "execution_count": 8,
      "outputs": [
        {
          "output_type": "stream",
          "text": [
            "[1 1 1 ... 0 0 0]\n",
            "['negative' 'positive']\n"
          ],
          "name": "stdout"
        }
      ]
    },
    {
      "cell_type": "code",
      "metadata": {
        "id": "wzG-C_EVWWET"
      },
      "source": [
        "# Split the data into train and test (80% - 20%). \n",
        "# Use stratify in train_test_split so that both train and test have similar ratio of positive and negative samples.\n",
        "train_sentences, test_sentences, train_labels, test_labels = train_test_split(reviews, encoded_labels, test_size=0.20, random_state=1, stratify=encoded_labels)\n",
        "# train_sentences, test_sentences, train_labels, test_labels\n"
      ],
      "execution_count": 9,
      "outputs": []
    },
    {
      "cell_type": "markdown",
      "metadata": {
        "id": "Bz1YdsSkiWCX"
      },
      "source": [
        "Here there are two approaches possible for building vocabulary for the naive Bayes.\n",
        "1. Take the whole data (train + test) to build the vocab. In this way while testing there is no word which will be out of vocabulary.\n",
        "2. Take the train data to build vocab. In this case, some words from the test set may not be in vocab and hence one needs to perform smoothing so that one the probability term is not zero.\n",
        " \n",
        "You are supposed to go by the 2nd approach.\n",
        " \n",
        "Also building vocab by taking all words in the train set is memory intensive, hence you are required to build vocab by choosing the top 2000 - 3000 frequent words in the training corpus.\n",
        "\n",
        "> $ P(x_i | w_j) = \\frac{ N_{x_i,w_j}\\, +\\, \\alpha }{ N_{w_j}\\, +\\, \\alpha*d} $\n",
        "\n",
        "\n",
        "$N_{x_i,w_j}$ : Number of times feature $x_i$ appears in samples of class $w_j$\n",
        "\n",
        "$N_{w_j}$ : Total count of features in class $w_j$\n",
        "\n",
        "$\\alpha$ : Parameter for additive smoothing. Here consider $\\alpha$ = 1\n",
        "\n",
        "$d$ : Dimentionality of the feature vector  $x = [x_1,x_2,...,x_d]$. In our case its the vocab size.\n",
        "\n",
        "\n",
        "\n",
        "\n"
      ]
    },
    {
      "cell_type": "code",
      "metadata": {
        "id": "1cllNfGmUr77",
        "outputId": "d3063ed6-46c8-45bc-d64a-32679c2f8abb",
        "colab": {
          "base_uri": "https://localhost:8080/",
          "height": 890
        }
      },
      "source": [
        "from sklearn.feature_extraction.text import CountVectorizer\n",
        "# Use Count vectorizer to get frequency of the words\n",
        "'''\n",
        "max_features parameter : If not None, build a vocabulary that only consider the top max_features ordered by term frequency across the corpus.\n",
        "vec = CountVectorizer(max_features = 3000)\n",
        "X = vec.fit_transform(Sentence_list)\n",
        "'''\n",
        "maxfeatures=3000\n",
        "vec = CountVectorizer(max_features = maxfeatures)\n",
        "X = vec.fit_transform(train_sentences)\n",
        "wordsdict=vec.get_feature_names()\n",
        "\n",
        "print(X)\n",
        "print(X.nonzero())\n"
      ],
      "execution_count": 10,
      "outputs": [
        {
          "output_type": "stream",
          "text": [
            "  (0, 2212)\t1\n",
            "  (0, 592)\t1\n",
            "  (0, 2494)\t1\n",
            "  (0, 755)\t3\n",
            "  (0, 941)\t1\n",
            "  (0, 1751)\t15\n",
            "  (0, 2074)\t1\n",
            "  (0, 2852)\t2\n",
            "  (0, 2537)\t1\n",
            "  (0, 2922)\t1\n",
            "  (0, 651)\t1\n",
            "  (0, 2565)\t6\n",
            "  (0, 2255)\t1\n",
            "  (0, 1717)\t1\n",
            "  (0, 1897)\t1\n",
            "  (0, 2513)\t1\n",
            "  (0, 1025)\t1\n",
            "  (0, 1619)\t2\n",
            "  (0, 1258)\t1\n",
            "  (0, 798)\t1\n",
            "  (0, 1561)\t8\n",
            "  (0, 2900)\t1\n",
            "  (0, 766)\t4\n",
            "  (0, 165)\t4\n",
            "  (0, 890)\t1\n",
            "  :\t:\n",
            "  (39999, 2223)\t1\n",
            "  (39999, 1395)\t1\n",
            "  (39999, 2966)\t2\n",
            "  (39999, 1626)\t1\n",
            "  (39999, 291)\t1\n",
            "  (39999, 892)\t1\n",
            "  (39999, 1916)\t1\n",
            "  (39999, 2466)\t4\n",
            "  (39999, 1578)\t1\n",
            "  (39999, 2569)\t1\n",
            "  (39999, 1327)\t1\n",
            "  (39999, 1018)\t1\n",
            "  (39999, 839)\t1\n",
            "  (39999, 1658)\t1\n",
            "  (39999, 2704)\t2\n",
            "  (39999, 372)\t1\n",
            "  (39999, 1338)\t1\n",
            "  (39999, 1205)\t1\n",
            "  (39999, 2775)\t1\n",
            "  (39999, 1562)\t1\n",
            "  (39999, 750)\t1\n",
            "  (39999, 2426)\t1\n",
            "  (39999, 710)\t1\n",
            "  (39999, 628)\t1\n",
            "  (39999, 1443)\t1\n",
            "(array([    0,     0,     0, ..., 39999, 39999, 39999], dtype=int32), array([2212,  592, 2494, ...,  710,  628, 1443], dtype=int32))\n"
          ],
          "name": "stdout"
        }
      ]
    },
    {
      "cell_type": "code",
      "metadata": {
        "id": "qzRvPjWaWUnm"
      },
      "source": [
        "# Use laplace smoothing for words in test set not present in vocab of train set\n",
        "from scipy.sparse import csr_matrix, find\n",
        "trainindex=find(X)[0]\n",
        "wordnum=find(X)[1]\n",
        "value=find(X)[2]\n",
        "\n",
        "\n",
        "probdictpos={}\n",
        "for i in wordsdict:\n",
        "    probdictpos[i]=0\n",
        "    \n",
        "probdictneg={}\n",
        "for i in wordsdict:\n",
        "    probdictneg[i]=0\n",
        "ncountpos=0\n",
        "ncountneg=0\n",
        "for i in range(len(trainindex)):\n",
        "    if train_labels[trainindex[i]]==1:\n",
        "        probdictpos[wordsdict[wordnum[i]]]=probdictpos[wordsdict[wordnum[i]]] + value[i]\n",
        "        ncountpos=ncountpos+value[i]\n",
        "    elif train_labels[trainindex[i]]==0:\n",
        "        probdictneg[wordsdict[wordnum[i]]]=probdictneg[wordsdict[wordnum[i]]]+value[i]\n",
        "        ncountneg=ncountneg+value[i]\n",
        "        \n",
        "for key,value in probdictpos.items():\n",
        "    probdictpos[key]=(value+1)/(ncountpos + maxfeatures)\n",
        "for key,value in probdictneg.items():\n",
        "    probdictneg[key]=(value+1)/(ncountneg + maxfeatures)\n",
        "        \n",
        "\n"
      ],
      "execution_count": 11,
      "outputs": []
    },
    {
      "cell_type": "code",
      "metadata": {
        "id": "iE7pxWIYW1z0"
      },
      "source": [
        "\n",
        "# Build the model. Don't use the model from sklearn\n",
        "def modelfunc(sentence):\n",
        "    pos=0\n",
        "    neg=0\n",
        "    for word in sentence.split(' '):\n",
        "        \n",
        "        if word in probdictpos.keys():\n",
        "            \n",
        "            pos=pos+np.log(probdictpos[word])\n",
        "        else:\n",
        "            pos=pos+np.log(1/(ncountpos+maxfeatures))\n",
        "        \n",
        "        if word in probdictneg.keys():\n",
        "            neg=neg+np.log(probdictneg[word])\n",
        "        else:\n",
        "            neg=neg+np.log(1/(ncountneg+maxfeatures))\n",
        "        \n",
        "  \n",
        "    if pos>neg:\n",
        "        return 1\n",
        "    else:\n",
        "        return 0\n",
        "        \n",
        "        \n",
        "        \n",
        "        \n",
        "    \n",
        "\n"
      ],
      "execution_count": 12,
      "outputs": []
    },
    {
      "cell_type": "code",
      "metadata": {
        "id": "AtQSl1zvW4DD",
        "outputId": "1893681b-f8f1-47f5-bf1d-09c6f1d8711a",
        "colab": {
          "base_uri": "https://localhost:8080/",
          "height": 34
        }
      },
      "source": [
        "# Test the model on test set and report Accuracy\n",
        "\n",
        "count=0\n",
        "#print(test_sentences.iat[0])\n",
        "#print(type(test_sentences))\n",
        "for i in range(len(test_sentences)):\n",
        "    #print(i)\n",
        "    label=modelfunc(test_sentences.iat[i])\n",
        "    #print(label,test_labels[i])\n",
        "    if label==test_labels[i]:\n",
        "        count=count+1\n",
        "        \n",
        "print('Accuracy :',count/len(test_sentences))\n",
        "    \n",
        "\n"
      ],
      "execution_count": 13,
      "outputs": [
        {
          "output_type": "stream",
          "text": [
            "Accuracy : 0.8428\n"
          ],
          "name": "stdout"
        }
      ]
    },
    {
      "cell_type": "markdown",
      "metadata": {
        "id": "WlNql0acU7sa"
      },
      "source": [
        "# *LSTM* based Classifier\n",
        "\n",
        "Use the above train and test splits."
      ]
    },
    {
      "cell_type": "code",
      "metadata": {
        "id": "SkqnvbUOXoN0"
      },
      "source": [
        "# Hyperparameters of the model\n",
        "vocab_size = len(vocab) \n",
        "oov_tok = '<OOK>'\n",
        "embedding_dim = 100\n",
        "max_length = maxlen # choose based on statistics, for example 150 to 200\n",
        "padding_type='post'\n",
        "trunc_type='post'"
      ],
      "execution_count": 15,
      "outputs": []
    },
    {
      "cell_type": "code",
      "metadata": {
        "id": "UeycEg9nZAOF"
      },
      "source": [
        "# tokenize sentences\n",
        "tokenizer = Tokenizer(num_words = vocab_size, oov_token=oov_tok)\n",
        "tokenizer.fit_on_texts(train_sentences)\n",
        "word_index = tokenizer.word_index\n",
        "\n",
        "# convert train dataset to sequence and pad sequences\n",
        "train_sequences = tokenizer.texts_to_sequences(train_sentences)\n",
        "train_padded = pad_sequences(train_sequences, padding='post', maxlen=max_length)\n",
        "\n",
        "# convert Test dataset to sequence and pad sequences\n",
        "test_sequences = tokenizer.texts_to_sequences(test_sentences)\n",
        "test_padded = pad_sequences(test_sequences, padding='post', maxlen=max_length)"
      ],
      "execution_count": 16,
      "outputs": []
    },
    {
      "cell_type": "code",
      "metadata": {
        "id": "Mtw3w895ZP39",
        "outputId": "23318ad5-a08e-4a0f-cf72-e197035e5718",
        "colab": {
          "base_uri": "https://localhost:8080/",
          "height": 286
        }
      },
      "source": [
        "# model initialization\n",
        "model = keras.Sequential([\n",
        "    keras.layers.Embedding(vocab_size, embedding_dim, input_length=max_length),\n",
        "    keras.layers.Bidirectional(keras.layers.LSTM(64)),\n",
        "    keras.layers.Dense(24, activation='relu'),\n",
        "    keras.layers.Dense(1, activation='sigmoid')\n",
        "])\n",
        "\n",
        "# compile model\n",
        "model.compile(loss='binary_crossentropy',\n",
        "              optimizer='adam',\n",
        "              metrics=['accuracy'])\n",
        "\n",
        "# model summary\n",
        "model.summary()"
      ],
      "execution_count": 17,
      "outputs": [
        {
          "output_type": "stream",
          "text": [
            "Model: \"sequential\"\n",
            "_________________________________________________________________\n",
            "Layer (type)                 Output Shape              Param #   \n",
            "=================================================================\n",
            "embedding (Embedding)        (None, 1437, 100)         15445000  \n",
            "_________________________________________________________________\n",
            "bidirectional (Bidirectional (None, 128)               84480     \n",
            "_________________________________________________________________\n",
            "dense (Dense)                (None, 24)                3096      \n",
            "_________________________________________________________________\n",
            "dense_1 (Dense)              (None, 1)                 25        \n",
            "=================================================================\n",
            "Total params: 15,532,601\n",
            "Trainable params: 15,532,601\n",
            "Non-trainable params: 0\n",
            "_________________________________________________________________\n"
          ],
          "name": "stdout"
        }
      ]
    },
    {
      "cell_type": "code",
      "metadata": {
        "id": "skmaDJMnZTzc",
        "outputId": "ad86277c-6ffe-471f-e9e1-3881c9b7a5af",
        "colab": {
          "base_uri": "https://localhost:8080/",
          "height": 185
        }
      },
      "source": [
        "num_epochs = 5\n",
        "history = model.fit(train_padded, train_labels, \n",
        "                    epochs=num_epochs, verbose=1, \n",
        "                    validation_split=0.1)"
      ],
      "execution_count": 18,
      "outputs": [
        {
          "output_type": "stream",
          "text": [
            "Epoch 1/5\n",
            "1125/1125 [==============================] - 529s 471ms/step - loss: 0.3831 - accuracy: 0.8317 - val_loss: 0.2792 - val_accuracy: 0.8945\n",
            "Epoch 2/5\n",
            "1125/1125 [==============================] - 529s 471ms/step - loss: 0.2477 - accuracy: 0.9055 - val_loss: 0.4803 - val_accuracy: 0.7673\n",
            "Epoch 3/5\n",
            "1125/1125 [==============================] - 528s 470ms/step - loss: 0.1851 - accuracy: 0.9334 - val_loss: 0.3043 - val_accuracy: 0.8823\n",
            "Epoch 4/5\n",
            "1125/1125 [==============================] - 527s 468ms/step - loss: 0.0960 - accuracy: 0.9678 - val_loss: 0.3220 - val_accuracy: 0.8885\n",
            "Epoch 5/5\n",
            "1125/1125 [==============================] - 525s 466ms/step - loss: 0.0544 - accuracy: 0.9826 - val_loss: 0.4194 - val_accuracy: 0.8850\n"
          ],
          "name": "stdout"
        }
      ]
    },
    {
      "cell_type": "code",
      "metadata": {
        "id": "TjEhWEr5Zq7M",
        "outputId": "ee4d197d-5369-4a3c-983d-e1e87c312b46",
        "colab": {
          "base_uri": "https://localhost:8080/",
          "height": 34
        }
      },
      "source": [
        "# Calculate accuracy on Test data\n",
        "'''\n",
        "prediction = model.predict(test_padded)\n",
        "\n",
        "'''\n",
        "# Get probabilities\n",
        "prediction = model.predict(test_padded)\n",
        "\n",
        "# Get labels based on probability 1 if p>= 0.5 else 0\n",
        "output=prediction>=0.5\n",
        "\n",
        "\n",
        "# Accuracy : one can use classification_report from sklearn\n",
        "from sklearn.metrics import accuracy_score\n",
        "accuracy=accuracy_score(test_labels, output)\n",
        "print('Accuracy ',accuracy)"
      ],
      "execution_count": 20,
      "outputs": [
        {
          "output_type": "stream",
          "text": [
            "Accuracy  0.8785\n"
          ],
          "name": "stdout"
        }
      ]
    },
    {
      "cell_type": "markdown",
      "metadata": {
        "id": "TIICV-ySOYL0"
      },
      "source": [
        "## Get predictions for random examples"
      ]
    },
    {
      "cell_type": "code",
      "metadata": {
        "id": "m2RmfNL3OYL0",
        "outputId": "f6b05b53-6097-440c-965f-b487812e73c4",
        "colab": {
          "base_uri": "https://localhost:8080/",
          "height": 118
        }
      },
      "source": [
        "# reviews on which we need to predict\n",
        "sentence = [\"The movie was very touching and heart whelming\", \n",
        "            \"I have never seen a terrible movie like this\", \n",
        "            \"the movie plot is terrible but it had good acting\"]\n",
        "\n",
        "# convert to a sequence\n",
        "sequences =  tokenizer.texts_to_sequences(sentence)\n",
        "\n",
        "# pad the sequence\n",
        "padded = pad_sequences(sequences, padding='post', maxlen=max_length)\n",
        "\n",
        "# Get probabilities\n",
        "\n",
        "outv=model.predict(padded)\n",
        "print(outv)\n",
        "\n",
        "\n",
        "# Get labels based on probability 1 if p>= 0.5 else 0\n",
        "\n",
        "output2= outv>=0.5\n",
        "\n",
        "for i in range(3):\n",
        "   \n",
        "    if output2[i][0]==True:\n",
        "        print(sentence[i],':  positive')\n",
        "    else:\n",
        "        print(sentence[i],':  negative')\n",
        "\n"
      ],
      "execution_count": 22,
      "outputs": [
        {
          "output_type": "stream",
          "text": [
            "[[0.9087079 ]\n",
            " [0.44581446]\n",
            " [0.10172906]]\n",
            "The movie was very touching and heart whelming :  positive\n",
            "I have never seen a terrible movie like this :  negative\n",
            "the movie plot is terrible but it had good acting :  negative\n"
          ],
          "name": "stdout"
        }
      ]
    },
    {
      "cell_type": "code",
      "metadata": {
        "id": "M2wJjvhgyNOU"
      },
      "source": [
        ""
      ],
      "execution_count": null,
      "outputs": []
    }
  ]
}